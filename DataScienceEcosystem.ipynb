{
 "cells": [
  {
   "cell_type": "markdown",
   "id": "0811e4ac-a582-41e4-aa83-228d834889c9",
   "metadata": {},
   "source": [
    "# Data Science Tools and Ecosystem"
   ]
  },
  {
   "cell_type": "markdown",
   "id": "9d0eb9da-37af-4044-83ee-9e841301b78b",
   "metadata": {},
   "source": [
    "In this notebook, Data Science Tools and Ecosystem are summarized."
   ]
  },
  {
   "cell_type": "markdown",
   "id": "26590f74-3ba3-42ea-af28-96affbef3d51",
   "metadata": {},
   "source": [
    "**Objectives:**\n",
    "\n",
    "- Getting to know popular tools and languages in Data Science\n",
    "- Delevop hands-on experience with Jupyter Notebooks, JupyterLab, RStudio IDE\n",
    "- Learn to run simple code in Python, R, or Scala\n",
    "- Demonstrate proficiency through preparing a notebook in Jupyter Notebook\n",
    "\n",
    "and furthermore \n",
    "\n",
    "- List popular languages for Data Science\n",
    "- List commonly used libraries for Data Science\n",
    "- Arithmetic expressions in Python\n",
    "- A converter"
   ]
  },
  {
   "cell_type": "markdown",
   "id": "65d6c72b-ba67-4d67-bca0-b690f525bd7a",
   "metadata": {},
   "source": [
    "Some of the popular languages that Data Scientists use are:\n",
    "\n",
    "1. Python\n",
    "2. R\n",
    "3. SQL\n",
    "4. Java\n",
    "5. Julia \n",
    "and more! \n"
   ]
  },
  {
   "cell_type": "markdown",
   "id": "a5c4537b-d1cc-45d2-9ad3-d1083505ba1d",
   "metadata": {},
   "source": [
    "Some of the commonly used libraries used by Data Scientists include:\n",
    "\n",
    "1. Pandas\n",
    "2. Seaborn\n",
    "3. TensorFlow \n",
    "4. NumPy and more!\n",
    "\n"
   ]
  },
  {
   "cell_type": "markdown",
   "id": "9cc19922-ed6d-40e8-b1b4-6207cad1f5bc",
   "metadata": {},
   "source": [
    "|Data Science Tools|\n",
    "|------------------|\n",
    "|Jupyter Notebook|\n",
    "|Visual Studio Code|\n",
    "|RStudio|"
   ]
  },
  {
   "cell_type": "markdown",
   "id": "d038cd60-d22c-4f15-9ecb-35125e51a46d",
   "metadata": {},
   "source": [
    "### Below are a few examples of evaluating arithmetic expressions in Python.\n"
   ]
  },
  {
   "cell_type": "markdown",
   "id": "194fd2d0-07e5-43bf-9c84-7b8756511176",
   "metadata": {},
   "source": [
    "-;+;*;/"
   ]
  },
  {
   "cell_type": "code",
   "execution_count": 8,
   "id": "276f9df4-837f-4d4b-9d89-98e1dbe8ba5e",
   "metadata": {
    "tags": []
   },
   "outputs": [
    {
     "name": "stdout",
     "output_type": "stream",
     "text": [
      "17\n"
     ]
    }
   ],
   "source": [
    "# This a simple arithmetic expression to mutiply then add integers\n",
    "print (3*4+5) "
   ]
  },
  {
   "cell_type": "code",
   "execution_count": 13,
   "id": "01600ac4-92af-4ea0-8ceb-cc72a796d4d3",
   "metadata": {
    "tags": []
   },
   "outputs": [
    {
     "name": "stdout",
     "output_type": "stream",
     "text": [
      "200 minutes converted to hours = 3.3333333333333335 hours\n"
     ]
    }
   ],
   "source": [
    "# This will convert 200 minutes to hours by diving by 60\n",
    "print (\"200 minutes converted to hours =\", (200/60) , \"hours\")"
   ]
  },
  {
   "cell_type": "markdown",
   "id": "31731d47-a9d8-4406-8255-70bd31b624c0",
   "metadata": {},
   "source": [
    "## Author:\n",
    "Tuan Anh Nguyen"
   ]
  },
  {
   "cell_type": "code",
   "execution_count": null,
   "id": "d37dc170-625e-4954-8d43-c6b2410564f7",
   "metadata": {},
   "outputs": [],
   "source": []
  }
 ],
 "metadata": {
  "kernelspec": {
   "display_name": "Python",
   "language": "python",
   "name": "conda-env-python-py"
  },
  "language_info": {
   "codemirror_mode": {
    "name": "ipython",
    "version": 3
   },
   "file_extension": ".py",
   "mimetype": "text/x-python",
   "name": "python",
   "nbconvert_exporter": "python",
   "pygments_lexer": "ipython3",
   "version": "3.7.12"
  }
 },
 "nbformat": 4,
 "nbformat_minor": 5
}
